{
 "cells": [
  {
   "cell_type": "markdown",
   "source": [
    "### Read csv file"
   ],
   "metadata": {
    "collapsed": false,
    "pycharm": {
     "name": "#%% md\n"
    }
   }
  },
  {
   "cell_type": "code",
   "execution_count": 7,
   "outputs": [
    {
     "data": {
      "text/plain": "   ArrivalDt  EnrolledId       EnrDt StudentLName StudentFName StudentMName  \\\n0   3/1/2022           0    4/8/2019    CERVANTES          ELI          NaN   \n1   4/6/2021           0   7/23/2019      CARMODY       OLIVER            F   \n2  10/5/2021           0    9/9/2019      JOHNSON     JERMAINE            X   \n3   1/7/2020           0    1/7/2020      SINAGRA       DEVLIN            R   \n4  8/24/2021           0  11/25/2019    LITTLEHAT        COLEN          NaN   \n\n   StudentId        DoB Resident Sex StaffLName StaffFName  StaffMName  \\\n0    1778739  7/18/1998        Y   M     Shahan  Catherine         NaN   \n1    1796106   9/8/1996        Y   M     Shahan  Catherine         NaN   \n2    1798438  10/7/2002        Y   M     Shahan  Catherine         NaN   \n3    1798549  3/29/2000        Y   M      Baker      Jesse         NaN   \n4    1799445  7/14/1995        Y   M     Shahan  Catherine         NaN   \n\n      DormGroup  CenterName                              Race EnrollmentType  \\\n0  Dorm 23 2312         NaN                Hispanic or Latino    AT Transfer   \n1  Dorm 23 2303         NaN                             White    AT Transfer   \n2  Dorm 23 2301         NaN         Black or African American    AT Transfer   \n3  Dorm 21 2110         NaN           White & Hispanic/Latino    New Student   \n4  Dorm 23 2302         NaN  American Indian or Alaska Native    AT Transfer   \n\n   PaidDays   Los  Age  \n0      1069  1113   23  \n1       974  1007   25  \n2       919   959   19  \n3       820   839   22  \n4       779   812   26  ",
      "text/html": "<div>\n<style scoped>\n    .dataframe tbody tr th:only-of-type {\n        vertical-align: middle;\n    }\n\n    .dataframe tbody tr th {\n        vertical-align: top;\n    }\n\n    .dataframe thead th {\n        text-align: right;\n    }\n</style>\n<table border=\"1\" class=\"dataframe\">\n  <thead>\n    <tr style=\"text-align: right;\">\n      <th></th>\n      <th>ArrivalDt</th>\n      <th>EnrolledId</th>\n      <th>EnrDt</th>\n      <th>StudentLName</th>\n      <th>StudentFName</th>\n      <th>StudentMName</th>\n      <th>StudentId</th>\n      <th>DoB</th>\n      <th>Resident</th>\n      <th>Sex</th>\n      <th>StaffLName</th>\n      <th>StaffFName</th>\n      <th>StaffMName</th>\n      <th>DormGroup</th>\n      <th>CenterName</th>\n      <th>Race</th>\n      <th>EnrollmentType</th>\n      <th>PaidDays</th>\n      <th>Los</th>\n      <th>Age</th>\n    </tr>\n  </thead>\n  <tbody>\n    <tr>\n      <th>0</th>\n      <td>3/1/2022</td>\n      <td>0</td>\n      <td>4/8/2019</td>\n      <td>CERVANTES</td>\n      <td>ELI</td>\n      <td>NaN</td>\n      <td>1778739</td>\n      <td>7/18/1998</td>\n      <td>Y</td>\n      <td>M</td>\n      <td>Shahan</td>\n      <td>Catherine</td>\n      <td>NaN</td>\n      <td>Dorm 23 2312</td>\n      <td>NaN</td>\n      <td>Hispanic or Latino</td>\n      <td>AT Transfer</td>\n      <td>1069</td>\n      <td>1113</td>\n      <td>23</td>\n    </tr>\n    <tr>\n      <th>1</th>\n      <td>4/6/2021</td>\n      <td>0</td>\n      <td>7/23/2019</td>\n      <td>CARMODY</td>\n      <td>OLIVER</td>\n      <td>F</td>\n      <td>1796106</td>\n      <td>9/8/1996</td>\n      <td>Y</td>\n      <td>M</td>\n      <td>Shahan</td>\n      <td>Catherine</td>\n      <td>NaN</td>\n      <td>Dorm 23 2303</td>\n      <td>NaN</td>\n      <td>White</td>\n      <td>AT Transfer</td>\n      <td>974</td>\n      <td>1007</td>\n      <td>25</td>\n    </tr>\n    <tr>\n      <th>2</th>\n      <td>10/5/2021</td>\n      <td>0</td>\n      <td>9/9/2019</td>\n      <td>JOHNSON</td>\n      <td>JERMAINE</td>\n      <td>X</td>\n      <td>1798438</td>\n      <td>10/7/2002</td>\n      <td>Y</td>\n      <td>M</td>\n      <td>Shahan</td>\n      <td>Catherine</td>\n      <td>NaN</td>\n      <td>Dorm 23 2301</td>\n      <td>NaN</td>\n      <td>Black or African American</td>\n      <td>AT Transfer</td>\n      <td>919</td>\n      <td>959</td>\n      <td>19</td>\n    </tr>\n    <tr>\n      <th>3</th>\n      <td>1/7/2020</td>\n      <td>0</td>\n      <td>1/7/2020</td>\n      <td>SINAGRA</td>\n      <td>DEVLIN</td>\n      <td>R</td>\n      <td>1798549</td>\n      <td>3/29/2000</td>\n      <td>Y</td>\n      <td>M</td>\n      <td>Baker</td>\n      <td>Jesse</td>\n      <td>NaN</td>\n      <td>Dorm 21 2110</td>\n      <td>NaN</td>\n      <td>White &amp; Hispanic/Latino</td>\n      <td>New Student</td>\n      <td>820</td>\n      <td>839</td>\n      <td>22</td>\n    </tr>\n    <tr>\n      <th>4</th>\n      <td>8/24/2021</td>\n      <td>0</td>\n      <td>11/25/2019</td>\n      <td>LITTLEHAT</td>\n      <td>COLEN</td>\n      <td>NaN</td>\n      <td>1799445</td>\n      <td>7/14/1995</td>\n      <td>Y</td>\n      <td>M</td>\n      <td>Shahan</td>\n      <td>Catherine</td>\n      <td>NaN</td>\n      <td>Dorm 23 2302</td>\n      <td>NaN</td>\n      <td>American Indian or Alaska Native</td>\n      <td>AT Transfer</td>\n      <td>779</td>\n      <td>812</td>\n      <td>26</td>\n    </tr>\n  </tbody>\n</table>\n</div>"
     },
     "execution_count": 7,
     "metadata": {},
     "output_type": "execute_result"
    }
   ],
   "source": [
    "import pandas as pd\n",
    "roster = pd.read_csv(\"ASR.csv\")\n",
    "roster.head()"
   ],
   "metadata": {
    "collapsed": false,
    "pycharm": {
     "name": "#%%\n"
    }
   }
  },
  {
   "cell_type": "code",
   "execution_count": 8,
   "outputs": [],
   "source": [
    "roster.drop(['ArrivalDt', 'EnrolledId','EnrDt','StudentMName','DoB','Resident','Sex','StaffLName','StaffFName','StaffMName','DormGroup','CenterName','Race','EnrollmentType','PaidDays','Los','Age'], axis = 1, inplace=True)\n"
   ],
   "metadata": {
    "collapsed": false,
    "pycharm": {
     "name": "#%%\n"
    }
   }
  },
  {
   "cell_type": "code",
   "execution_count": 12,
   "outputs": [],
   "source": [
    "roster = roster.rename({'StudentLName': 'last', 'StudentFName':'first', 'StudentId':'id'}, axis=1, index=None)"
   ],
   "metadata": {
    "collapsed": false,
    "pycharm": {
     "name": "#%%\n"
    }
   }
  },
  {
   "cell_type": "code",
   "execution_count": 13,
   "outputs": [
    {
     "data": {
      "text/plain": "            last     first       id\n0      CERVANTES       ELI  1778739\n1        CARMODY    OLIVER  1796106\n2        JOHNSON  JERMAINE  1798438\n3        SINAGRA    DEVLIN  1798549\n4      LITTLEHAT     COLEN  1799445\n..           ...       ...      ...\n78     GILLESPIE   CAMERON  1895887\n79   DELAROSA II   ANTHONY  1896707\n80  LAWRENCE III    ROBERT  1896769\n81      LAWRENCE      LUIS  1896919\n82      WILLIAMS   COLLEEN  1897628\n\n[83 rows x 3 columns]",
      "text/html": "<div>\n<style scoped>\n    .dataframe tbody tr th:only-of-type {\n        vertical-align: middle;\n    }\n\n    .dataframe tbody tr th {\n        vertical-align: top;\n    }\n\n    .dataframe thead th {\n        text-align: right;\n    }\n</style>\n<table border=\"1\" class=\"dataframe\">\n  <thead>\n    <tr style=\"text-align: right;\">\n      <th></th>\n      <th>last</th>\n      <th>first</th>\n      <th>id</th>\n    </tr>\n  </thead>\n  <tbody>\n    <tr>\n      <th>0</th>\n      <td>CERVANTES</td>\n      <td>ELI</td>\n      <td>1778739</td>\n    </tr>\n    <tr>\n      <th>1</th>\n      <td>CARMODY</td>\n      <td>OLIVER</td>\n      <td>1796106</td>\n    </tr>\n    <tr>\n      <th>2</th>\n      <td>JOHNSON</td>\n      <td>JERMAINE</td>\n      <td>1798438</td>\n    </tr>\n    <tr>\n      <th>3</th>\n      <td>SINAGRA</td>\n      <td>DEVLIN</td>\n      <td>1798549</td>\n    </tr>\n    <tr>\n      <th>4</th>\n      <td>LITTLEHAT</td>\n      <td>COLEN</td>\n      <td>1799445</td>\n    </tr>\n    <tr>\n      <th>...</th>\n      <td>...</td>\n      <td>...</td>\n      <td>...</td>\n    </tr>\n    <tr>\n      <th>78</th>\n      <td>GILLESPIE</td>\n      <td>CAMERON</td>\n      <td>1895887</td>\n    </tr>\n    <tr>\n      <th>79</th>\n      <td>DELAROSA II</td>\n      <td>ANTHONY</td>\n      <td>1896707</td>\n    </tr>\n    <tr>\n      <th>80</th>\n      <td>LAWRENCE III</td>\n      <td>ROBERT</td>\n      <td>1896769</td>\n    </tr>\n    <tr>\n      <th>81</th>\n      <td>LAWRENCE</td>\n      <td>LUIS</td>\n      <td>1896919</td>\n    </tr>\n    <tr>\n      <th>82</th>\n      <td>WILLIAMS</td>\n      <td>COLLEEN</td>\n      <td>1897628</td>\n    </tr>\n  </tbody>\n</table>\n<p>83 rows × 3 columns</p>\n</div>"
     },
     "execution_count": 13,
     "metadata": {},
     "output_type": "execute_result"
    }
   ],
   "source": [
    "roster"
   ],
   "metadata": {
    "collapsed": false,
    "pycharm": {
     "name": "#%%\n"
    }
   }
  },
  {
   "cell_type": "code",
   "execution_count": 15,
   "outputs": [],
   "source": [
    "roster = roster[['first','last','id']]"
   ],
   "metadata": {
    "collapsed": false,
    "pycharm": {
     "name": "#%%\n"
    }
   }
  },
  {
   "cell_type": "code",
   "execution_count": 16,
   "outputs": [
    {
     "data": {
      "text/plain": "       first          last       id\n0        ELI     CERVANTES  1778739\n1     OLIVER       CARMODY  1796106\n2   JERMAINE       JOHNSON  1798438\n3     DEVLIN       SINAGRA  1798549\n4      COLEN     LITTLEHAT  1799445\n..       ...           ...      ...\n78   CAMERON     GILLESPIE  1895887\n79   ANTHONY   DELAROSA II  1896707\n80    ROBERT  LAWRENCE III  1896769\n81      LUIS      LAWRENCE  1896919\n82   COLLEEN      WILLIAMS  1897628\n\n[83 rows x 3 columns]",
      "text/html": "<div>\n<style scoped>\n    .dataframe tbody tr th:only-of-type {\n        vertical-align: middle;\n    }\n\n    .dataframe tbody tr th {\n        vertical-align: top;\n    }\n\n    .dataframe thead th {\n        text-align: right;\n    }\n</style>\n<table border=\"1\" class=\"dataframe\">\n  <thead>\n    <tr style=\"text-align: right;\">\n      <th></th>\n      <th>first</th>\n      <th>last</th>\n      <th>id</th>\n    </tr>\n  </thead>\n  <tbody>\n    <tr>\n      <th>0</th>\n      <td>ELI</td>\n      <td>CERVANTES</td>\n      <td>1778739</td>\n    </tr>\n    <tr>\n      <th>1</th>\n      <td>OLIVER</td>\n      <td>CARMODY</td>\n      <td>1796106</td>\n    </tr>\n    <tr>\n      <th>2</th>\n      <td>JERMAINE</td>\n      <td>JOHNSON</td>\n      <td>1798438</td>\n    </tr>\n    <tr>\n      <th>3</th>\n      <td>DEVLIN</td>\n      <td>SINAGRA</td>\n      <td>1798549</td>\n    </tr>\n    <tr>\n      <th>4</th>\n      <td>COLEN</td>\n      <td>LITTLEHAT</td>\n      <td>1799445</td>\n    </tr>\n    <tr>\n      <th>...</th>\n      <td>...</td>\n      <td>...</td>\n      <td>...</td>\n    </tr>\n    <tr>\n      <th>78</th>\n      <td>CAMERON</td>\n      <td>GILLESPIE</td>\n      <td>1895887</td>\n    </tr>\n    <tr>\n      <th>79</th>\n      <td>ANTHONY</td>\n      <td>DELAROSA II</td>\n      <td>1896707</td>\n    </tr>\n    <tr>\n      <th>80</th>\n      <td>ROBERT</td>\n      <td>LAWRENCE III</td>\n      <td>1896769</td>\n    </tr>\n    <tr>\n      <th>81</th>\n      <td>LUIS</td>\n      <td>LAWRENCE</td>\n      <td>1896919</td>\n    </tr>\n    <tr>\n      <th>82</th>\n      <td>COLLEEN</td>\n      <td>WILLIAMS</td>\n      <td>1897628</td>\n    </tr>\n  </tbody>\n</table>\n<p>83 rows × 3 columns</p>\n</div>"
     },
     "execution_count": 16,
     "metadata": {},
     "output_type": "execute_result"
    }
   ],
   "source": [
    "roster"
   ],
   "metadata": {
    "collapsed": false,
    "pycharm": {
     "name": "#%%\n"
    }
   }
  },
  {
   "cell_type": "code",
   "execution_count": 19,
   "outputs": [],
   "source": [
    "roster.to_csv('formatted.csv', index=False)"
   ],
   "metadata": {
    "collapsed": false,
    "pycharm": {
     "name": "#%%\n"
    }
   }
  },
  {
   "cell_type": "code",
   "execution_count": null,
   "outputs": [],
   "source": [],
   "metadata": {
    "collapsed": false,
    "pycharm": {
     "name": "#%%\n"
    }
   }
  }
 ],
 "metadata": {
  "kernelspec": {
   "display_name": "Python 3",
   "language": "python",
   "name": "python3"
  },
  "language_info": {
   "codemirror_mode": {
    "name": "ipython",
    "version": 2
   },
   "file_extension": ".py",
   "mimetype": "text/x-python",
   "name": "python",
   "nbconvert_exporter": "python",
   "pygments_lexer": "ipython2",
   "version": "2.7.6"
  }
 },
 "nbformat": 4,
 "nbformat_minor": 0
}